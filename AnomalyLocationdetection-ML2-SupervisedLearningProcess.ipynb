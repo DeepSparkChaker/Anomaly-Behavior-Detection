{
 "cells": [
  {
   "cell_type": "markdown",
   "metadata": {},
   "source": [
    "# II- Supervised Learning Process\n",
    "\n",
    "# 1- Load Data "
   ]
  },
  {
   "cell_type": "code",
   "execution_count": 1,
   "metadata": {
    "scrolled": true
   },
   "outputs": [],
   "source": [
    "import numpy as np\n",
    "import pandas as pd\n",
    "import matplotlib.pyplot as plt\n",
    "import sklearn as sk\n",
    "from datetime import datetime\n",
    "import pytz\n",
    "df = pd.read_pickle(\"C:/Users/rzouga/Downloads/Work Swiss/location-exploration/Recruitment-Challenge/locations.pkl\")\n"
   ]
  },
  {
   "cell_type": "markdown",
   "metadata": {},
   "source": [
    "# 2- Data Preparation"
   ]
  },
  {
   "cell_type": "code",
   "execution_count": 2,
   "metadata": {},
   "outputs": [
    {
     "data": {
      "text/plain": [
       "array(['customerLocationState', 'startTime', 'endTime', 'duration',\n",
       "       'Location', 'durationMinutes', 'DateStart', 'YearStart',\n",
       "       'MonthStart', 'weekStart', 'DayStart', 'WeekYear', 'MonthYear',\n",
       "       'Dayofweekencoded', 'Dayofweeknames', 'TimeStart', 'hourStart',\n",
       "       'hourend', 'hourdiff', 'total_freqbyday', 'freq_cumbyday',\n",
       "       'freq_cumbyHourofDay', 'freq_totalbyHourofDay',\n",
       "       'duration_cumusumbyday', 'cumdurationlocationHourofDay',\n",
       "       'duration_totalsumbyday', 'event', 'Event_cumusumbyHourday',\n",
       "       'Event_cumusumbyday', 'eventcoded'], dtype=object)"
      ]
     },
     "execution_count": 2,
     "metadata": {},
     "output_type": "execute_result"
    }
   ],
   "source": [
    "\n",
    "from sklearn.preprocessing import LabelEncoder\n",
    "df['customerLocationState']=df.customerLocationState.str.replace('entrance','bigroom' ).replace('livingroom','bigroom')\n",
    "le=LabelEncoder()\n",
    "df['Location'] = le.fit_transform(df['customerLocationState'])\n",
    "df['durationMinutes'] = df['duration'].dt.total_seconds()/60\n",
    "# Convert to datetime and extract hour:\n",
    "df['DateStart'] = pd.to_datetime(df['startTime']).dt.date\n",
    "df['YearStart'] = pd.to_datetime(df['startTime']).dt.year\n",
    "df['MonthStart'] = pd.to_datetime(df['startTime']).dt.month\n",
    "df['weekStart'] = pd.to_datetime(df['startTime']).dt.week\n",
    "df['DayStart'] = pd.to_datetime(df['startTime']).dt.day\n",
    "df['WeekYear'] = df['startTime'].apply(lambda x: \"%d/%d\" % (x.week, x.year))\n",
    "df['MonthYear'] = df['startTime'].apply(lambda x: \"%d/%d\" % (x.month, x.year))\n",
    "\n",
    "# The day of the week with Monday=0, Sunday=6.\n",
    "df['Dayofweekencoded'] = pd.to_datetime(df['startTime']).dt.dayofweek\n",
    "df['Dayofweeknames'] = pd.to_datetime(df['startTime']).dt.day_name()\n",
    "df['TimeStart'] = pd.to_datetime(df['startTime']).dt.time\n",
    "df['hourStart'] = pd.to_datetime(df['startTime']).dt.hour\n",
    "df['hourend'] = pd.to_datetime(df['endTime']).dt.hour\n",
    "df['hourdiff'] = df['hourend']-df['hourStart']\n",
    "\n",
    "df = df.sort_values(by='startTime',ascending=True)\n",
    "df['total_freqbyday'] = df.groupby(['DateStart','customerLocationState'])['customerLocationState'].transform('count')\n",
    "df['freq_cumbyday'] = df.groupby(['DateStart','customerLocationState'])['customerLocationState'].cumcount()+1\n",
    "df['freq_cumbyHourofDay'] = df.groupby(['DateStart','customerLocationState','hourStart'])['customerLocationState'].cumcount()+1\n",
    "df['freq_totalbyHourofDay'] = df.groupby(['DateStart','customerLocationState','hourStart'])['customerLocationState'].transform('count')\n",
    "df['duration_cumusumbyday'] = df.groupby(['DateStart','customerLocationState'])['durationMinutes'].apply(lambda x: x.cumsum())\n",
    "df['cumdurationlocationHourofDay'] = df.groupby(['DateStart','customerLocationState','hourStart'])['durationMinutes'].cumsum()\n",
    "df['duration_totalsumbyday'] = df.groupby(['DateStart','customerLocationState'])['durationMinutes'].transform('sum')\n",
    "df['event']= np.where((df['customerLocationState']!=df['customerLocationState'].shift())\n",
    "                      ,df['customerLocationState'].shift()+'to'+df['customerLocationState'],'nochange')\n",
    "df['Event_cumusumbyHourday'] = df.groupby(['DateStart','customerLocationState','event','hourStart'])['event'].cumcount()+1\n",
    "df['Event_cumusumbyday'] = df.groupby(['DateStart','customerLocationState','event'])['event'].cumcount()+1\n",
    "# convert categorical to integer \n",
    "la=LabelEncoder()\n",
    "df=df.dropna()\n",
    "df=df.drop_duplicates()\n",
    "df['eventcoded'] = la.fit_transform(df['event'])\n",
    "df.columns.values "
   ]
  },
  {
   "cell_type": "markdown",
   "metadata": {},
   "source": [
    "# Classifier\n",
    "A Classifier in Machine Learning is an algorithm, that will determine the class to which the input data belongs to based on a set of features.\n",
    "\n",
    "A Binary Classifier is an instance of Supervised Learning. In Supervised Learning we have a set of input data and a set of labels, our task is to map each data with a label. A Binary Classifier classifies elements into two groups, either Zero or One.\n",
    "\n",
    "\n",
    "\n",
    "# 3- Label data \n",
    "we have unlabled data but we will annotate it with normal behavior and anormal behavior in the time of incident \n",
    "## 3-1 time of incident :"
   ]
  },
  {
   "cell_type": "code",
   "execution_count": 3,
   "metadata": {
    "scrolled": true
   },
   "outputs": [
    {
     "data": {
      "text/html": [
       "<div>\n",
       "<style scoped>\n",
       "    .dataframe tbody tr th:only-of-type {\n",
       "        vertical-align: middle;\n",
       "    }\n",
       "\n",
       "    .dataframe tbody tr th {\n",
       "        vertical-align: top;\n",
       "    }\n",
       "\n",
       "    .dataframe thead th {\n",
       "        text-align: right;\n",
       "    }\n",
       "</style>\n",
       "<table border=\"1\" class=\"dataframe\">\n",
       "  <thead>\n",
       "    <tr style=\"text-align: right;\">\n",
       "      <th></th>\n",
       "      <th>customerLocationState</th>\n",
       "      <th>startTime</th>\n",
       "      <th>endTime</th>\n",
       "      <th>duration</th>\n",
       "      <th>Location</th>\n",
       "      <th>durationMinutes</th>\n",
       "      <th>DateStart</th>\n",
       "      <th>YearStart</th>\n",
       "      <th>MonthStart</th>\n",
       "      <th>weekStart</th>\n",
       "      <th>...</th>\n",
       "      <th>freq_cumbyday</th>\n",
       "      <th>freq_cumbyHourofDay</th>\n",
       "      <th>freq_totalbyHourofDay</th>\n",
       "      <th>duration_cumusumbyday</th>\n",
       "      <th>cumdurationlocationHourofDay</th>\n",
       "      <th>duration_totalsumbyday</th>\n",
       "      <th>event</th>\n",
       "      <th>Event_cumusumbyHourday</th>\n",
       "      <th>Event_cumusumbyday</th>\n",
       "      <th>eventcoded</th>\n",
       "    </tr>\n",
       "  </thead>\n",
       "  <tbody>\n",
       "    <tr>\n",
       "      <th>38822</th>\n",
       "      <td>bigroom</td>\n",
       "      <td>2019-09-18 10:00:17+02:00</td>\n",
       "      <td>2019-09-18 10:01:35+02:00</td>\n",
       "      <td>00:01:18</td>\n",
       "      <td>2</td>\n",
       "      <td>1.300000</td>\n",
       "      <td>2019-09-18</td>\n",
       "      <td>2019</td>\n",
       "      <td>9</td>\n",
       "      <td>38</td>\n",
       "      <td>...</td>\n",
       "      <td>14</td>\n",
       "      <td>1</td>\n",
       "      <td>11</td>\n",
       "      <td>63.616667</td>\n",
       "      <td>1.300000</td>\n",
       "      <td>652.733333</td>\n",
       "      <td>nochange</td>\n",
       "      <td>1</td>\n",
       "      <td>10</td>\n",
       "      <td>18</td>\n",
       "    </tr>\n",
       "    <tr>\n",
       "      <th>38823</th>\n",
       "      <td>bigroom</td>\n",
       "      <td>2019-09-18 10:01:35+02:00</td>\n",
       "      <td>2019-09-18 10:09:03+02:00</td>\n",
       "      <td>00:07:28</td>\n",
       "      <td>2</td>\n",
       "      <td>7.466667</td>\n",
       "      <td>2019-09-18</td>\n",
       "      <td>2019</td>\n",
       "      <td>9</td>\n",
       "      <td>38</td>\n",
       "      <td>...</td>\n",
       "      <td>15</td>\n",
       "      <td>2</td>\n",
       "      <td>11</td>\n",
       "      <td>71.083333</td>\n",
       "      <td>8.766667</td>\n",
       "      <td>652.733333</td>\n",
       "      <td>nochange</td>\n",
       "      <td>2</td>\n",
       "      <td>11</td>\n",
       "      <td>18</td>\n",
       "    </tr>\n",
       "    <tr>\n",
       "      <th>38824</th>\n",
       "      <td>bigroom</td>\n",
       "      <td>2019-09-18 10:09:03+02:00</td>\n",
       "      <td>2019-09-18 10:09:55+02:00</td>\n",
       "      <td>00:00:52</td>\n",
       "      <td>2</td>\n",
       "      <td>0.866667</td>\n",
       "      <td>2019-09-18</td>\n",
       "      <td>2019</td>\n",
       "      <td>9</td>\n",
       "      <td>38</td>\n",
       "      <td>...</td>\n",
       "      <td>16</td>\n",
       "      <td>3</td>\n",
       "      <td>11</td>\n",
       "      <td>71.950000</td>\n",
       "      <td>9.633333</td>\n",
       "      <td>652.733333</td>\n",
       "      <td>nochange</td>\n",
       "      <td>3</td>\n",
       "      <td>12</td>\n",
       "      <td>18</td>\n",
       "    </tr>\n",
       "    <tr>\n",
       "      <th>38825</th>\n",
       "      <td>bigroom</td>\n",
       "      <td>2019-09-18 10:09:55+02:00</td>\n",
       "      <td>2019-09-18 10:13:07+02:00</td>\n",
       "      <td>00:03:12</td>\n",
       "      <td>2</td>\n",
       "      <td>3.200000</td>\n",
       "      <td>2019-09-18</td>\n",
       "      <td>2019</td>\n",
       "      <td>9</td>\n",
       "      <td>38</td>\n",
       "      <td>...</td>\n",
       "      <td>17</td>\n",
       "      <td>4</td>\n",
       "      <td>11</td>\n",
       "      <td>75.150000</td>\n",
       "      <td>12.833333</td>\n",
       "      <td>652.733333</td>\n",
       "      <td>nochange</td>\n",
       "      <td>4</td>\n",
       "      <td>13</td>\n",
       "      <td>18</td>\n",
       "    </tr>\n",
       "    <tr>\n",
       "      <th>38826</th>\n",
       "      <td>bathroom</td>\n",
       "      <td>2019-09-18 10:13:07+02:00</td>\n",
       "      <td>2019-09-18 10:18:54+02:00</td>\n",
       "      <td>00:05:47</td>\n",
       "      <td>0</td>\n",
       "      <td>5.783333</td>\n",
       "      <td>2019-09-18</td>\n",
       "      <td>2019</td>\n",
       "      <td>9</td>\n",
       "      <td>38</td>\n",
       "      <td>...</td>\n",
       "      <td>4</td>\n",
       "      <td>1</td>\n",
       "      <td>1</td>\n",
       "      <td>19.383333</td>\n",
       "      <td>5.783333</td>\n",
       "      <td>22.800000</td>\n",
       "      <td>bigroomtobathroom</td>\n",
       "      <td>1</td>\n",
       "      <td>3</td>\n",
       "      <td>9</td>\n",
       "    </tr>\n",
       "    <tr>\n",
       "      <th>38827</th>\n",
       "      <td>bigroom</td>\n",
       "      <td>2019-09-18 10:18:54+02:00</td>\n",
       "      <td>2019-09-18 10:20:29+02:00</td>\n",
       "      <td>00:01:35</td>\n",
       "      <td>2</td>\n",
       "      <td>1.583333</td>\n",
       "      <td>2019-09-18</td>\n",
       "      <td>2019</td>\n",
       "      <td>9</td>\n",
       "      <td>38</td>\n",
       "      <td>...</td>\n",
       "      <td>18</td>\n",
       "      <td>5</td>\n",
       "      <td>11</td>\n",
       "      <td>76.733333</td>\n",
       "      <td>14.416667</td>\n",
       "      <td>652.733333</td>\n",
       "      <td>bathroomtobigroom</td>\n",
       "      <td>1</td>\n",
       "      <td>3</td>\n",
       "      <td>1</td>\n",
       "    </tr>\n",
       "    <tr>\n",
       "      <th>38828</th>\n",
       "      <td>bigroom</td>\n",
       "      <td>2019-09-18 10:20:29+02:00</td>\n",
       "      <td>2019-09-18 10:33:36+02:00</td>\n",
       "      <td>00:13:07</td>\n",
       "      <td>2</td>\n",
       "      <td>13.116667</td>\n",
       "      <td>2019-09-18</td>\n",
       "      <td>2019</td>\n",
       "      <td>9</td>\n",
       "      <td>38</td>\n",
       "      <td>...</td>\n",
       "      <td>19</td>\n",
       "      <td>6</td>\n",
       "      <td>11</td>\n",
       "      <td>89.850000</td>\n",
       "      <td>27.533333</td>\n",
       "      <td>652.733333</td>\n",
       "      <td>nochange</td>\n",
       "      <td>5</td>\n",
       "      <td>14</td>\n",
       "      <td>18</td>\n",
       "    </tr>\n",
       "    <tr>\n",
       "      <th>38829</th>\n",
       "      <td>bigroom</td>\n",
       "      <td>2019-09-18 10:33:36+02:00</td>\n",
       "      <td>2019-09-18 10:44:10+02:00</td>\n",
       "      <td>00:10:34</td>\n",
       "      <td>2</td>\n",
       "      <td>10.566667</td>\n",
       "      <td>2019-09-18</td>\n",
       "      <td>2019</td>\n",
       "      <td>9</td>\n",
       "      <td>38</td>\n",
       "      <td>...</td>\n",
       "      <td>20</td>\n",
       "      <td>7</td>\n",
       "      <td>11</td>\n",
       "      <td>100.416667</td>\n",
       "      <td>38.100000</td>\n",
       "      <td>652.733333</td>\n",
       "      <td>nochange</td>\n",
       "      <td>6</td>\n",
       "      <td>15</td>\n",
       "      <td>18</td>\n",
       "    </tr>\n",
       "    <tr>\n",
       "      <th>38830</th>\n",
       "      <td>bigroom</td>\n",
       "      <td>2019-09-18 10:44:10+02:00</td>\n",
       "      <td>2019-09-18 10:53:50+02:00</td>\n",
       "      <td>00:09:40</td>\n",
       "      <td>2</td>\n",
       "      <td>9.666667</td>\n",
       "      <td>2019-09-18</td>\n",
       "      <td>2019</td>\n",
       "      <td>9</td>\n",
       "      <td>38</td>\n",
       "      <td>...</td>\n",
       "      <td>21</td>\n",
       "      <td>8</td>\n",
       "      <td>11</td>\n",
       "      <td>110.083333</td>\n",
       "      <td>47.766667</td>\n",
       "      <td>652.733333</td>\n",
       "      <td>nochange</td>\n",
       "      <td>7</td>\n",
       "      <td>16</td>\n",
       "      <td>18</td>\n",
       "    </tr>\n",
       "    <tr>\n",
       "      <th>38831</th>\n",
       "      <td>bigroom</td>\n",
       "      <td>2019-09-18 10:53:50+02:00</td>\n",
       "      <td>2019-09-18 10:54:41+02:00</td>\n",
       "      <td>00:00:51</td>\n",
       "      <td>2</td>\n",
       "      <td>0.850000</td>\n",
       "      <td>2019-09-18</td>\n",
       "      <td>2019</td>\n",
       "      <td>9</td>\n",
       "      <td>38</td>\n",
       "      <td>...</td>\n",
       "      <td>22</td>\n",
       "      <td>9</td>\n",
       "      <td>11</td>\n",
       "      <td>110.933333</td>\n",
       "      <td>48.616667</td>\n",
       "      <td>652.733333</td>\n",
       "      <td>nochange</td>\n",
       "      <td>8</td>\n",
       "      <td>17</td>\n",
       "      <td>18</td>\n",
       "    </tr>\n",
       "    <tr>\n",
       "      <th>38832</th>\n",
       "      <td>bigroom</td>\n",
       "      <td>2019-09-18 10:54:41+02:00</td>\n",
       "      <td>2019-09-18 10:55:59+02:00</td>\n",
       "      <td>00:01:18</td>\n",
       "      <td>2</td>\n",
       "      <td>1.300000</td>\n",
       "      <td>2019-09-18</td>\n",
       "      <td>2019</td>\n",
       "      <td>9</td>\n",
       "      <td>38</td>\n",
       "      <td>...</td>\n",
       "      <td>23</td>\n",
       "      <td>10</td>\n",
       "      <td>11</td>\n",
       "      <td>112.233333</td>\n",
       "      <td>49.916667</td>\n",
       "      <td>652.733333</td>\n",
       "      <td>nochange</td>\n",
       "      <td>9</td>\n",
       "      <td>18</td>\n",
       "      <td>18</td>\n",
       "    </tr>\n",
       "    <tr>\n",
       "      <th>38833</th>\n",
       "      <td>bigroom</td>\n",
       "      <td>2019-09-18 10:55:59+02:00</td>\n",
       "      <td>2019-09-18 11:03:30+02:00</td>\n",
       "      <td>00:07:31</td>\n",
       "      <td>2</td>\n",
       "      <td>7.516667</td>\n",
       "      <td>2019-09-18</td>\n",
       "      <td>2019</td>\n",
       "      <td>9</td>\n",
       "      <td>38</td>\n",
       "      <td>...</td>\n",
       "      <td>24</td>\n",
       "      <td>11</td>\n",
       "      <td>11</td>\n",
       "      <td>119.750000</td>\n",
       "      <td>57.433333</td>\n",
       "      <td>652.733333</td>\n",
       "      <td>nochange</td>\n",
       "      <td>10</td>\n",
       "      <td>19</td>\n",
       "      <td>18</td>\n",
       "    </tr>\n",
       "  </tbody>\n",
       "</table>\n",
       "<p>12 rows × 30 columns</p>\n",
       "</div>"
      ],
      "text/plain": [
       "      customerLocationState                 startTime  \\\n",
       "38822               bigroom 2019-09-18 10:00:17+02:00   \n",
       "38823               bigroom 2019-09-18 10:01:35+02:00   \n",
       "38824               bigroom 2019-09-18 10:09:03+02:00   \n",
       "38825               bigroom 2019-09-18 10:09:55+02:00   \n",
       "38826              bathroom 2019-09-18 10:13:07+02:00   \n",
       "38827               bigroom 2019-09-18 10:18:54+02:00   \n",
       "38828               bigroom 2019-09-18 10:20:29+02:00   \n",
       "38829               bigroom 2019-09-18 10:33:36+02:00   \n",
       "38830               bigroom 2019-09-18 10:44:10+02:00   \n",
       "38831               bigroom 2019-09-18 10:53:50+02:00   \n",
       "38832               bigroom 2019-09-18 10:54:41+02:00   \n",
       "38833               bigroom 2019-09-18 10:55:59+02:00   \n",
       "\n",
       "                        endTime duration  Location  durationMinutes  \\\n",
       "38822 2019-09-18 10:01:35+02:00 00:01:18         2         1.300000   \n",
       "38823 2019-09-18 10:09:03+02:00 00:07:28         2         7.466667   \n",
       "38824 2019-09-18 10:09:55+02:00 00:00:52         2         0.866667   \n",
       "38825 2019-09-18 10:13:07+02:00 00:03:12         2         3.200000   \n",
       "38826 2019-09-18 10:18:54+02:00 00:05:47         0         5.783333   \n",
       "38827 2019-09-18 10:20:29+02:00 00:01:35         2         1.583333   \n",
       "38828 2019-09-18 10:33:36+02:00 00:13:07         2        13.116667   \n",
       "38829 2019-09-18 10:44:10+02:00 00:10:34         2        10.566667   \n",
       "38830 2019-09-18 10:53:50+02:00 00:09:40         2         9.666667   \n",
       "38831 2019-09-18 10:54:41+02:00 00:00:51         2         0.850000   \n",
       "38832 2019-09-18 10:55:59+02:00 00:01:18         2         1.300000   \n",
       "38833 2019-09-18 11:03:30+02:00 00:07:31         2         7.516667   \n",
       "\n",
       "        DateStart  YearStart  MonthStart  weekStart  ...  freq_cumbyday  \\\n",
       "38822  2019-09-18       2019           9         38  ...             14   \n",
       "38823  2019-09-18       2019           9         38  ...             15   \n",
       "38824  2019-09-18       2019           9         38  ...             16   \n",
       "38825  2019-09-18       2019           9         38  ...             17   \n",
       "38826  2019-09-18       2019           9         38  ...              4   \n",
       "38827  2019-09-18       2019           9         38  ...             18   \n",
       "38828  2019-09-18       2019           9         38  ...             19   \n",
       "38829  2019-09-18       2019           9         38  ...             20   \n",
       "38830  2019-09-18       2019           9         38  ...             21   \n",
       "38831  2019-09-18       2019           9         38  ...             22   \n",
       "38832  2019-09-18       2019           9         38  ...             23   \n",
       "38833  2019-09-18       2019           9         38  ...             24   \n",
       "\n",
       "      freq_cumbyHourofDay freq_totalbyHourofDay  duration_cumusumbyday  \\\n",
       "38822                   1                    11              63.616667   \n",
       "38823                   2                    11              71.083333   \n",
       "38824                   3                    11              71.950000   \n",
       "38825                   4                    11              75.150000   \n",
       "38826                   1                     1              19.383333   \n",
       "38827                   5                    11              76.733333   \n",
       "38828                   6                    11              89.850000   \n",
       "38829                   7                    11             100.416667   \n",
       "38830                   8                    11             110.083333   \n",
       "38831                   9                    11             110.933333   \n",
       "38832                  10                    11             112.233333   \n",
       "38833                  11                    11             119.750000   \n",
       "\n",
       "      cumdurationlocationHourofDay duration_totalsumbyday              event  \\\n",
       "38822                     1.300000             652.733333           nochange   \n",
       "38823                     8.766667             652.733333           nochange   \n",
       "38824                     9.633333             652.733333           nochange   \n",
       "38825                    12.833333             652.733333           nochange   \n",
       "38826                     5.783333              22.800000  bigroomtobathroom   \n",
       "38827                    14.416667             652.733333  bathroomtobigroom   \n",
       "38828                    27.533333             652.733333           nochange   \n",
       "38829                    38.100000             652.733333           nochange   \n",
       "38830                    47.766667             652.733333           nochange   \n",
       "38831                    48.616667             652.733333           nochange   \n",
       "38832                    49.916667             652.733333           nochange   \n",
       "38833                    57.433333             652.733333           nochange   \n",
       "\n",
       "       Event_cumusumbyHourday  Event_cumusumbyday  eventcoded  \n",
       "38822                       1                  10          18  \n",
       "38823                       2                  11          18  \n",
       "38824                       3                  12          18  \n",
       "38825                       4                  13          18  \n",
       "38826                       1                   3           9  \n",
       "38827                       1                   3           1  \n",
       "38828                       5                  14          18  \n",
       "38829                       6                  15          18  \n",
       "38830                       7                  16          18  \n",
       "38831                       8                  17          18  \n",
       "38832                       9                  18          18  \n",
       "38833                      10                  19          18  \n",
       "\n",
       "[12 rows x 30 columns]"
      ]
     },
     "execution_count": 3,
     "metadata": {},
     "output_type": "execute_result"
    }
   ],
   "source": [
    "from datetime import datetime, timedelta,date, time\n",
    "start_date = date(2019,9,18)\n",
    "end_date = date(2019,9,19)\n",
    "dfincident1=df[df['DateStart']==date(2019,9,18)]\n",
    "dfincident1= dfincident1[dfincident1['hourStart']==10]\n",
    "dfincident1"
   ]
  },
  {
   "cell_type": "code",
   "execution_count": 4,
   "metadata": {
    "scrolled": true
   },
   "outputs": [
    {
     "data": {
      "text/html": [
       "<div>\n",
       "<style scoped>\n",
       "    .dataframe tbody tr th:only-of-type {\n",
       "        vertical-align: middle;\n",
       "    }\n",
       "\n",
       "    .dataframe tbody tr th {\n",
       "        vertical-align: top;\n",
       "    }\n",
       "\n",
       "    .dataframe thead th {\n",
       "        text-align: right;\n",
       "    }\n",
       "</style>\n",
       "<table border=\"1\" class=\"dataframe\">\n",
       "  <thead>\n",
       "    <tr style=\"text-align: right;\">\n",
       "      <th></th>\n",
       "      <th>customerLocationState</th>\n",
       "      <th>startTime</th>\n",
       "      <th>endTime</th>\n",
       "      <th>duration</th>\n",
       "      <th>Location</th>\n",
       "      <th>durationMinutes</th>\n",
       "      <th>DateStart</th>\n",
       "      <th>YearStart</th>\n",
       "      <th>MonthStart</th>\n",
       "      <th>weekStart</th>\n",
       "      <th>...</th>\n",
       "      <th>freq_cumbyday</th>\n",
       "      <th>freq_cumbyHourofDay</th>\n",
       "      <th>freq_totalbyHourofDay</th>\n",
       "      <th>duration_cumusumbyday</th>\n",
       "      <th>cumdurationlocationHourofDay</th>\n",
       "      <th>duration_totalsumbyday</th>\n",
       "      <th>event</th>\n",
       "      <th>Event_cumusumbyHourday</th>\n",
       "      <th>Event_cumusumbyday</th>\n",
       "      <th>eventcoded</th>\n",
       "    </tr>\n",
       "  </thead>\n",
       "  <tbody>\n",
       "    <tr>\n",
       "      <th>38883</th>\n",
       "      <td>bathroom</td>\n",
       "      <td>2019-09-19 02:34:59+02:00</td>\n",
       "      <td>2019-09-19 02:43:43+02:00</td>\n",
       "      <td>0 days 00:08:44</td>\n",
       "      <td>0</td>\n",
       "      <td>8.733333</td>\n",
       "      <td>2019-09-19</td>\n",
       "      <td>2019</td>\n",
       "      <td>9</td>\n",
       "      <td>38</td>\n",
       "      <td>...</td>\n",
       "      <td>1</td>\n",
       "      <td>1</td>\n",
       "      <td>2</td>\n",
       "      <td>8.733333</td>\n",
       "      <td>8.733333</td>\n",
       "      <td>16.233333</td>\n",
       "      <td>bedroomtobathroom</td>\n",
       "      <td>1</td>\n",
       "      <td>1</td>\n",
       "      <td>4</td>\n",
       "    </tr>\n",
       "    <tr>\n",
       "      <th>38884</th>\n",
       "      <td>bigroom</td>\n",
       "      <td>2019-09-19 02:43:43+02:00</td>\n",
       "      <td>2019-09-19 02:46:27+02:00</td>\n",
       "      <td>0 days 00:02:44</td>\n",
       "      <td>2</td>\n",
       "      <td>2.733333</td>\n",
       "      <td>2019-09-19</td>\n",
       "      <td>2019</td>\n",
       "      <td>9</td>\n",
       "      <td>38</td>\n",
       "      <td>...</td>\n",
       "      <td>1</td>\n",
       "      <td>1</td>\n",
       "      <td>1</td>\n",
       "      <td>2.733333</td>\n",
       "      <td>2.733333</td>\n",
       "      <td>2.733333</td>\n",
       "      <td>bathroomtobigroom</td>\n",
       "      <td>1</td>\n",
       "      <td>1</td>\n",
       "      <td>1</td>\n",
       "    </tr>\n",
       "    <tr>\n",
       "      <th>38885</th>\n",
       "      <td>bathroom</td>\n",
       "      <td>2019-09-19 02:46:27+02:00</td>\n",
       "      <td>2019-09-19 02:53:57+02:00</td>\n",
       "      <td>0 days 00:07:30</td>\n",
       "      <td>0</td>\n",
       "      <td>7.500000</td>\n",
       "      <td>2019-09-19</td>\n",
       "      <td>2019</td>\n",
       "      <td>9</td>\n",
       "      <td>38</td>\n",
       "      <td>...</td>\n",
       "      <td>2</td>\n",
       "      <td>2</td>\n",
       "      <td>2</td>\n",
       "      <td>16.233333</td>\n",
       "      <td>16.233333</td>\n",
       "      <td>16.233333</td>\n",
       "      <td>bigroomtobathroom</td>\n",
       "      <td>1</td>\n",
       "      <td>1</td>\n",
       "      <td>9</td>\n",
       "    </tr>\n",
       "    <tr>\n",
       "      <th>38886</th>\n",
       "      <td>bedroom</td>\n",
       "      <td>2019-09-19 02:53:57+02:00</td>\n",
       "      <td>2019-09-20 10:25:18+02:00</td>\n",
       "      <td>1 days 07:31:21</td>\n",
       "      <td>1</td>\n",
       "      <td>1891.350000</td>\n",
       "      <td>2019-09-19</td>\n",
       "      <td>2019</td>\n",
       "      <td>9</td>\n",
       "      <td>38</td>\n",
       "      <td>...</td>\n",
       "      <td>1</td>\n",
       "      <td>1</td>\n",
       "      <td>1</td>\n",
       "      <td>1891.350000</td>\n",
       "      <td>1891.350000</td>\n",
       "      <td>1891.350000</td>\n",
       "      <td>bathroomtobedroom</td>\n",
       "      <td>1</td>\n",
       "      <td>1</td>\n",
       "      <td>0</td>\n",
       "    </tr>\n",
       "  </tbody>\n",
       "</table>\n",
       "<p>4 rows × 30 columns</p>\n",
       "</div>"
      ],
      "text/plain": [
       "      customerLocationState                 startTime  \\\n",
       "38883              bathroom 2019-09-19 02:34:59+02:00   \n",
       "38884               bigroom 2019-09-19 02:43:43+02:00   \n",
       "38885              bathroom 2019-09-19 02:46:27+02:00   \n",
       "38886               bedroom 2019-09-19 02:53:57+02:00   \n",
       "\n",
       "                        endTime        duration  Location  durationMinutes  \\\n",
       "38883 2019-09-19 02:43:43+02:00 0 days 00:08:44         0         8.733333   \n",
       "38884 2019-09-19 02:46:27+02:00 0 days 00:02:44         2         2.733333   \n",
       "38885 2019-09-19 02:53:57+02:00 0 days 00:07:30         0         7.500000   \n",
       "38886 2019-09-20 10:25:18+02:00 1 days 07:31:21         1      1891.350000   \n",
       "\n",
       "        DateStart  YearStart  MonthStart  weekStart  ...  freq_cumbyday  \\\n",
       "38883  2019-09-19       2019           9         38  ...              1   \n",
       "38884  2019-09-19       2019           9         38  ...              1   \n",
       "38885  2019-09-19       2019           9         38  ...              2   \n",
       "38886  2019-09-19       2019           9         38  ...              1   \n",
       "\n",
       "      freq_cumbyHourofDay freq_totalbyHourofDay  duration_cumusumbyday  \\\n",
       "38883                   1                     2               8.733333   \n",
       "38884                   1                     1               2.733333   \n",
       "38885                   2                     2              16.233333   \n",
       "38886                   1                     1            1891.350000   \n",
       "\n",
       "      cumdurationlocationHourofDay duration_totalsumbyday              event  \\\n",
       "38883                     8.733333              16.233333  bedroomtobathroom   \n",
       "38884                     2.733333               2.733333  bathroomtobigroom   \n",
       "38885                    16.233333              16.233333  bigroomtobathroom   \n",
       "38886                  1891.350000            1891.350000  bathroomtobedroom   \n",
       "\n",
       "       Event_cumusumbyHourday  Event_cumusumbyday  eventcoded  \n",
       "38883                       1                   1           4  \n",
       "38884                       1                   1           1  \n",
       "38885                       1                   1           9  \n",
       "38886                       1                   1           0  \n",
       "\n",
       "[4 rows x 30 columns]"
      ]
     },
     "execution_count": 4,
     "metadata": {},
     "output_type": "execute_result"
    }
   ],
   "source": [
    "dfincident2=df[df['DateStart']==date(2019,9,19)]\n",
    "dfincident2=dfincident2[dfincident2['hourStart']==2]\n",
    "dfincident2"
   ]
  },
  {
   "cell_type": "markdown",
   "metadata": {},
   "source": [
    "# 3-2 Annotate Data "
   ]
  },
  {
   "cell_type": "code",
   "execution_count": 5,
   "metadata": {},
   "outputs": [],
   "source": [
    "df['behavior']= np.where(((df['DateStart']==date(2019,9,19))&(df['hourStart']==2))|((df['DateStart']==date(2019,9,18))&(df['hourStart']==10))\n",
    "                          ,1,0)"
   ]
  },
  {
   "cell_type": "code",
   "execution_count": 6,
   "metadata": {},
   "outputs": [
    {
     "data": {
      "text/plain": [
       "38883    1\n",
       "38884    1\n",
       "38885    1\n",
       "38886    1\n",
       "Name: behavior, dtype: int32"
      ]
     },
     "execution_count": 6,
     "metadata": {},
     "output_type": "execute_result"
    }
   ],
   "source": [
    "dfincident2=df[df['DateStart']==date(2019,9,19)]\n",
    "dfincident2=dfincident2[dfincident2['hourStart']==2]\n",
    "dfincident2['behavior']"
   ]
  },
  {
   "cell_type": "code",
   "execution_count": 7,
   "metadata": {
    "scrolled": false
   },
   "outputs": [
    {
     "data": {
      "text/plain": [
       "38822    1\n",
       "38823    1\n",
       "38824    1\n",
       "38825    1\n",
       "38826    1\n",
       "38827    1\n",
       "38828    1\n",
       "38829    1\n",
       "38830    1\n",
       "38831    1\n",
       "38832    1\n",
       "38833    1\n",
       "Name: behavior, dtype: int32"
      ]
     },
     "execution_count": 7,
     "metadata": {},
     "output_type": "execute_result"
    }
   ],
   "source": [
    "from datetime import datetime, timedelta,date, time\n",
    "start_date = date(2019,9,18)\n",
    "end_date = date(2019,9,19)\n",
    "dfincident1=df[df['DateStart']==date(2019,9,18)]\n",
    "dfincident1= dfincident1[dfincident1['hourStart']==10]\n",
    "dfincident1['behavior']"
   ]
  },
  {
   "cell_type": "markdown",
   "metadata": {},
   "source": [
    "\n",
    "\n",
    "**Note**: Notice how imbalanced is our original dataset! Most of the transactions are Normal. If we use this dataframe as the base for our predictive models and analysis we might get a lot of errors and our algorithms will probably overfit since it will \"assume\" that most behavior are not Anomaly. But we don't want our model to assume, we want our model to detect patterns that give signs of Anomaly!\n"
   ]
  },
  {
   "cell_type": "code",
   "execution_count": 20,
   "metadata": {},
   "outputs": [
    {
     "data": {
      "text/plain": [
       "16"
      ]
     },
     "execution_count": 20,
     "metadata": {},
     "output_type": "execute_result"
    }
   ],
   "source": [
    "df['behavior'].value_counts()[1]"
   ]
  },
  {
   "cell_type": "code",
   "execution_count": 18,
   "metadata": {},
   "outputs": [
    {
     "name": "stdout",
     "output_type": "stream",
     "text": [
      "Normal Behavior 99.96 % of the dataset\n",
      "Anomaly Behavior 0.04 % of the dataset\n"
     ]
    }
   ],
   "source": [
    "# The classes are heavily skewed we need to solve this issue later.\n",
    "print('Normal Behavior', round(df['behavior'].value_counts()[0]/len(df) * 100,2), '% of the dataset')\n",
    "print('Anomaly Behavior', round(df['behavior'].value_counts()[1]/len(df) * 100,2), '% of the dataset')"
   ]
  },
  {
   "cell_type": "code",
   "execution_count": 19,
   "metadata": {},
   "outputs": [
    {
     "data": {
      "text/plain": [
       "Text(0.5, 1.0, 'Class Distributions \\n (0: Normal Behavior || 1: Anomaly behavior)')"
      ]
     },
     "execution_count": 19,
     "metadata": {},
     "output_type": "execute_result"
    },
    {
     "data": {
      "image/png": "[encoded data removed]",
      "text/plain": [
       "<Figure size 432x288 with 1 Axes>"
      ]
     },
     "metadata": {
      "needs_background": "light"
     },
     "output_type": "display_data"
    }
   ],
   "source": [
    "import matplotlib.pyplot as plt\n",
    "import seaborn as sns\n",
    "colors = [\"#0101DF\", \"#DF0101\"]\n",
    "\n",
    "sns.countplot('behavior', data=df, palette=colors)\n",
    "plt.title('Class Distributions \\n (0: Normal Behavior || 1: Anomaly behavior)', fontsize=14)"
   ]
  },
  {
   "cell_type": "code",
   "execution_count": 22,
   "metadata": {},
   "outputs": [
    {
     "data": {
      "text/html": [
       "<div>\n",
       "<style scoped>\n",
       "    .dataframe tbody tr th:only-of-type {\n",
       "        vertical-align: middle;\n",
       "    }\n",
       "\n",
       "    .dataframe tbody tr th {\n",
       "        vertical-align: top;\n",
       "    }\n",
       "\n",
       "    .dataframe thead th {\n",
       "        text-align: right;\n",
       "    }\n",
       "</style>\n",
       "<table border=\"1\" class=\"dataframe\">\n",
       "  <thead>\n",
       "    <tr style=\"text-align: right;\">\n",
       "      <th></th>\n",
       "      <th>Location</th>\n",
       "      <th>durationMinutes</th>\n",
       "      <th>hourStart</th>\n",
       "      <th>freq_cumbyday</th>\n",
       "      <th>freq_cumbyHourofDay</th>\n",
       "      <th>Event_cumusumbyHourday</th>\n",
       "      <th>Event_cumusumbyday</th>\n",
       "      <th>eventcoded</th>\n",
       "      <th>behavior</th>\n",
       "    </tr>\n",
       "  </thead>\n",
       "  <tbody>\n",
       "    <tr>\n",
       "      <th>38317</th>\n",
       "      <td>2</td>\n",
       "      <td>10.050000</td>\n",
       "      <td>13</td>\n",
       "      <td>38</td>\n",
       "      <td>5</td>\n",
       "      <td>4</td>\n",
       "      <td>30</td>\n",
       "      <td>18</td>\n",
       "      <td>0</td>\n",
       "    </tr>\n",
       "    <tr>\n",
       "      <th>38883</th>\n",
       "      <td>0</td>\n",
       "      <td>8.733333</td>\n",
       "      <td>2</td>\n",
       "      <td>1</td>\n",
       "      <td>1</td>\n",
       "      <td>1</td>\n",
       "      <td>1</td>\n",
       "      <td>4</td>\n",
       "      <td>1</td>\n",
       "    </tr>\n",
       "    <tr>\n",
       "      <th>36088</th>\n",
       "      <td>2</td>\n",
       "      <td>17.166667</td>\n",
       "      <td>7</td>\n",
       "      <td>14</td>\n",
       "      <td>3</td>\n",
       "      <td>1</td>\n",
       "      <td>7</td>\n",
       "      <td>18</td>\n",
       "      <td>0</td>\n",
       "    </tr>\n",
       "    <tr>\n",
       "      <th>9438</th>\n",
       "      <td>2</td>\n",
       "      <td>8.683333</td>\n",
       "      <td>1</td>\n",
       "      <td>1</td>\n",
       "      <td>1</td>\n",
       "      <td>1</td>\n",
       "      <td>1</td>\n",
       "      <td>5</td>\n",
       "      <td>0</td>\n",
       "    </tr>\n",
       "    <tr>\n",
       "      <th>38824</th>\n",
       "      <td>2</td>\n",
       "      <td>0.866667</td>\n",
       "      <td>10</td>\n",
       "      <td>16</td>\n",
       "      <td>3</td>\n",
       "      <td>3</td>\n",
       "      <td>12</td>\n",
       "      <td>18</td>\n",
       "      <td>1</td>\n",
       "    </tr>\n",
       "  </tbody>\n",
       "</table>\n",
       "</div>"
      ],
      "text/plain": [
       "       Location  durationMinutes  hourStart  freq_cumbyday  \\\n",
       "38317         2        10.050000         13             38   \n",
       "38883         0         8.733333          2              1   \n",
       "36088         2        17.166667          7             14   \n",
       "9438          2         8.683333          1              1   \n",
       "38824         2         0.866667         10             16   \n",
       "\n",
       "       freq_cumbyHourofDay  Event_cumusumbyHourday  Event_cumusumbyday  \\\n",
       "38317                    5                       4                  30   \n",
       "38883                    1                       1                   1   \n",
       "36088                    3                       1                   7   \n",
       "9438                     1                       1                   1   \n",
       "38824                    3                       3                  12   \n",
       "\n",
       "       eventcoded  behavior  \n",
       "38317          18         0  \n",
       "38883           4         1  \n",
       "36088          18         0  \n",
       "9438            5         0  \n",
       "38824          18         1  "
      ]
     },
     "execution_count": 22,
     "metadata": {},
     "output_type": "execute_result"
    }
   ],
   "source": [
    "# Since our classes are highly skewed we should make them equivalent in order to have a normal distribution of the classes.\n",
    "\n",
    "# Lets shuffle the data before creating the subsamples\n",
    "\n",
    "df = df.sample(frac=1)\n",
    "\n",
    "# amount of fraud classes 492 rows.\n",
    "Anomaly_df = df.loc[df['behavior'] == 1]\n",
    "Normal_df = df.loc[df['behavior'] == 0][:16]\n",
    "\n",
    "normal_distributed_df = pd.concat([Anomaly_df, Normal_df])\n",
    "\n",
    "# Shuffle dataframe rows\n",
    "new_df = normal_distributed_df.sample(frac=1, random_state=42)\n",
    "\n",
    "new_df.head()"
   ]
  },
  {
   "cell_type": "markdown",
   "metadata": {},
   "source": [
    "\n",
    "## Equally Distributing and Correlating:\n",
    "\n",
    "Now that we have our dataframe correctly balanced, we can go further with our analysis and data preprocessing"
   ]
  },
  {
   "cell_type": "code",
   "execution_count": 24,
   "metadata": {},
   "outputs": [
    {
     "name": "stdout",
     "output_type": "stream",
     "text": [
      "Distribution of the Classes in the subsample dataset\n",
      "1    0.5\n",
      "0    0.5\n",
      "Name: behavior, dtype: float64\n"
     ]
    },
    {
     "data": {
      "image/png": "[encoded data removed]",
      "text/plain": [
       "<Figure size 432x288 with 1 Axes>"
      ]
     },
     "metadata": {
      "needs_background": "light"
     },
     "output_type": "display_data"
    }
   ],
   "source": [
    "print('Distribution of the Classes in the subsample dataset')\n",
    "print(new_df['behavior'].value_counts()/len(new_df))\n",
    "\n",
    "\n",
    "\n",
    "sns.countplot('behavior', data=new_df, palette=colors)\n",
    "plt.title('Equally Distributed Classes', fontsize=14)\n",
    "plt.show()"
   ]
  },
  {
   "cell_type": "code",
   "execution_count": 25,
   "metadata": {},
   "outputs": [
    {
     "data": {
      "image/png": "[encoded data removed]",
      "text/plain": [
       "<Figure size 1728x1440 with 4 Axes>"
      ]
     },
     "metadata": {
      "needs_background": "light"
     },
     "output_type": "display_data"
    }
   ],
   "source": [
    "# Make sure we use the subsample in our correlation\n",
    "\n",
    "f, (ax1, ax2) = plt.subplots(2, 1, figsize=(24,20))\n",
    "\n",
    "# Entire DataFrame\n",
    "corr = df.corr()\n",
    "sns.heatmap(corr, cmap='coolwarm_r', annot_kws={'size':20}, ax=ax1)\n",
    "ax1.set_title(\"Imbalanced Correlation Matrix \\n (don't use for reference)\", fontsize=14)\n",
    "\n",
    "\n",
    "sub_sample_corr = new_df.corr()\n",
    "sns.heatmap(sub_sample_corr, cmap='coolwarm_r', annot_kws={'size':20}, ax=ax2)\n",
    "ax2.set_title('SubSample Correlation Matrix \\n (use for reference)', fontsize=14)\n",
    "plt.show()"
   ]
  },
  {
   "cell_type": "markdown",
   "metadata": {},
   "source": [
    "# I-Balanced Data "
   ]
  },
  {
   "cell_type": "code",
   "execution_count": 51,
   "metadata": {},
   "outputs": [
    {
     "name": "stdout",
     "output_type": "stream",
     "text": [
      "Classifiers:  LogisticRegression Has a training score of 48.0 % accuracy score\n",
      "Classifiers:  KNeighborsClassifier Has a training score of 40.0 % accuracy score\n",
      "Classifiers:  SVC Has a training score of 40.0 % accuracy score\n",
      "Classifiers:  DecisionTreeClassifier Has a training score of 68.0 % accuracy score\n",
      "Classifiers:  BernoulliNB Has a training score of 56.00000000000001 % accuracy score\n",
      "Classifiers:  XGBClassifier Has a training score of 60.0 % accuracy score\n"
     ]
    }
   ],
   "source": [
    "# Classifier Libraries\n",
    "from sklearn.linear_model import LogisticRegression\n",
    "from sklearn.svm import SVC\n",
    "from sklearn.neighbors import KNeighborsClassifier\n",
    "from sklearn.tree import DecisionTreeClassifier\n",
    "from sklearn.ensemble import RandomForestClassifier\n",
    "from xgboost import XGBClassifier\n",
    "from sklearn.naive_bayes import GaussianNB, BernoulliNB, MultinomialNB\n",
    "import collections\n",
    "# Undersampling before cross validating (prone to overfit)\n",
    "X1 = new_df.drop('behavior', axis=1)\n",
    "y1 = new_df['behavior']\n",
    "# Our data is already scaled we should split our training and test sets\n",
    "from sklearn.model_selection import train_test_split\n",
    "from sklearn.preprocessing import MinMaxScaler\n",
    "scaler =MinMaxScaler()\n",
    "\n",
    "X1= scaler.fit_transform(X1)\n",
    "\n",
    "# This is explicitly used for undersampling.\n",
    "X_train1, X_test1, y_train1, y_test1 = train_test_split(X1, y1, test_size=0.2, random_state=42)\n",
    "# Let's implement simple classifiers\n",
    "\n",
    "classifiers = {\n",
    "    \"LogisiticRegression\": LogisticRegression(),\n",
    "    \"KNearest\": KNeighborsClassifier(),\n",
    "    \"Support Vector Classifier\": SVC(),\n",
    "    \"DecisionTreeClassifier\": DecisionTreeClassifier(),\n",
    "    \"NBClassifier\": BernoulliNB(),\n",
    "    \"XGBoostClassifier\": XGBClassifier()\n",
    "}\n",
    "# Wow our scores are getting even high scores even when applying cross validation.\n",
    "from sklearn.model_selection import cross_val_score\n",
    "\n",
    "\n",
    "for key, classifier in classifiers.items():\n",
    "    classifier.fit(X_train1, y_train1)\n",
    "    training_score = cross_val_score(classifier, X_train1, y_train1, cv=5)\n",
    "    print(\"Classifiers: \", classifier.__class__.__name__, \"Has a training score of\", round(training_score.mean(), 2) * 100, \"% accuracy score\")\n"
   ]
  },
  {
   "cell_type": "code",
   "execution_count": 58,
   "metadata": {},
   "outputs": [],
   "source": [
    "# Use GridSearchCV to find the best parameters.\n",
    "from sklearn.model_selection import GridSearchCV\n",
    "\n",
    "\n",
    "# Logistic Regression \n",
    "log_reg_params = {\"penalty\": ['l1', 'l2'], 'C': [0.001, 0.01, 0.1, 1, 10, 100, 1000]}\n",
    "\n",
    "\n",
    "\n",
    "grid_log_reg = GridSearchCV(LogisticRegression(), log_reg_params)\n",
    "grid_log_reg.fit(X_train1, y_train1)\n",
    "# We automatically get the logistic regression with the best parameters.\n",
    "log_reg = grid_log_reg.best_estimator_\n",
    "\n",
    "knears_params = {\"n_neighbors\": list(range(2,5,1)), 'algorithm': ['auto', 'ball_tree', 'kd_tree', 'brute']}\n",
    "\n",
    "grid_knears = GridSearchCV(KNeighborsClassifier(), knears_params)\n",
    "grid_knears.fit(X_train1, y_train1)\n",
    "# KNears best estimator\n",
    "knears_neighbors = grid_knears.best_estimator_\n",
    "\n",
    "# Support Vector Classifier\n",
    "svc_params = {'C': [0.5, 0.7, 0.9, 1], 'kernel': ['rbf', 'poly', 'sigmoid', 'linear']}\n",
    "grid_svc = GridSearchCV(SVC(), svc_params)\n",
    "grid_svc.fit(X_train1, y_train1)\n",
    "\n",
    "# SVC best estimator\n",
    "svc = grid_svc.best_estimator_\n",
    "\n",
    "# DecisionTree Classifier\n",
    "tree_params = {\"criterion\": [\"gini\", \"entropy\"], \"max_depth\": list(range(2,4,1)), \n",
    "              \"min_samples_leaf\": list(range(5,7,1))}\n",
    "grid_tree = GridSearchCV(DecisionTreeClassifier(), tree_params)\n",
    "grid_tree.fit(X_train1, y_train1)\n",
    "\n",
    "# tree best estimator\n",
    "tree_clf = grid_tree.best_estimator_\n",
    "# A parameter grid for XGBoost\n",
    "XGBoost_params = {\n",
    "        'min_child_weight': [1, 5, 10],\n",
    "        'gamma': [0.5, 1, 1.5, 2, 5],\n",
    "        'subsample': [0.6, 0.8, 1.0],\n",
    "        'colsample_bytree': [0.6, 0.8, 1.0],\n",
    "        'max_depth': [3, 4, 5]\n",
    "        }\n",
    "grid_XGBoost = GridSearchCV(XGBClassifier(), XGBoost_params)\n",
    "grid_XGBoost.fit(X_train1, y_train1)\n",
    "# XGboost best estimator\n",
    "XGBoost_clf = grid_XGBoost.best_estimator_"
   ]
  },
  {
   "cell_type": "code",
   "execution_count": 61,
   "metadata": {
    "scrolled": false
   },
   "outputs": [
    {
     "name": "stdout",
     "output_type": "stream",
     "text": [
      "Logistic Regression Cross Validation Score:  60.0%\n",
      "Knears Neighbors Cross Validation Score 72.0%\n",
      "Support Vector Classifier Cross Validation Score 68.0%\n",
      "DecisionTree Classifier Cross Validation Score 44.0%\n",
      "XGBoost Classifier Cross Validation Score 68.0%\n"
     ]
    }
   ],
   "source": [
    "# Overfitting Case\n",
    "log_reg_score = cross_val_score(log_reg, X_train1, y_train1, cv=5)\n",
    "print('Logistic Regression Cross Validation Score: ', round(log_reg_score.mean() * 100, 2).astype(str) + '%')\n",
    "\n",
    "\n",
    "knears_score = cross_val_score(knears_neighbors, X_train1, y_train1, cv=5)\n",
    "print('Knears Neighbors Cross Validation Score', round(knears_score.mean() * 100, 2).astype(str) + '%')\n",
    "\n",
    "svc_score = cross_val_score(svc, X_train1, y_train1, cv=5)\n",
    "print('Support Vector Classifier Cross Validation Score', round(svc_score.mean() * 100, 2).astype(str) + '%')\n",
    "\n",
    "tree_score = cross_val_score(tree_clf, X_train1, y_train1, cv=5)\n",
    "print('DecisionTree Classifier Cross Validation Score', round(tree_score.mean() * 100, 2).astype(str) + '%')\n",
    "\n",
    "XGBoost_score = cross_val_score(XGBoost_clf, X_train1, y_train1, cv=5)\n",
    "print('XGBoost Classifier Cross Validation Score', round(XGBoost_score.mean() * 100, 2).astype(str) + '%')\n"
   ]
  },
  {
   "cell_type": "code",
   "execution_count": 95,
   "metadata": {},
   "outputs": [
    {
     "data": {
      "text/plain": [
       "{'algorithm': 'auto', 'n_neighbors': 3}"
      ]
     },
     "execution_count": 95,
     "metadata": {},
     "output_type": "execute_result"
    }
   ],
   "source": [
    "grid_knears.best_params_"
   ]
  },
  {
   "cell_type": "code",
   "execution_count": 96,
   "metadata": {},
   "outputs": [],
   "source": [
    "y_pred_classtratified = knears_neighbors.predict(X_test1)\n"
   ]
  },
  {
   "cell_type": "code",
   "execution_count": 97,
   "metadata": {},
   "outputs": [
    {
     "name": "stdout",
     "output_type": "stream",
     "text": [
      "[[2 2]\n",
      " [0 3]]\n"
     ]
    }
   ],
   "source": [
    "from sklearn.metrics import confusion_matrix\n",
    "confusion_matrix = confusion_matrix(y_test1,  y_pred_classtratified)\n",
    "print(confusion_matrix)"
   ]
  },
  {
   "cell_type": "code",
   "execution_count": 98,
   "metadata": {
    "scrolled": true
   },
   "outputs": [
    {
     "data": {
      "image/png": "[encoded data removed]",
      "text/plain": [
       "<Figure size 396x288 with 2 Axes>"
      ]
     },
     "metadata": {
      "needs_background": "light"
     },
     "output_type": "display_data"
    }
   ],
   "source": [
    "# Transform to df for easier plotting\n",
    "cm_df = pd.DataFrame(confusion_matrix,\n",
    "                     index = ['Normal','Anomaly'], \n",
    "                     columns = ['Normal','Anomaly'])\n",
    "\n",
    "plt.figure(figsize=(5.5,4))\n",
    "sns.heatmap(cm_df, annot=True)\n",
    "plt.title('knears_neighbors Kernel \\nAccuracy:{0:.3f}'.format(accuracy_score(y_test1, y_pred_classtratified)))\n",
    "plt.ylabel('True label')\n",
    "plt.xlabel('Predicted label')\n",
    "plt.show()"
   ]
  },
  {
   "cell_type": "markdown",
   "metadata": {},
   "source": [
    "# II-Unbalanced Data  :"
   ]
  },
  {
   "cell_type": "markdown",
   "metadata": {},
   "source": [
    "## Select features and target "
   ]
  },
  {
   "cell_type": "code",
   "execution_count": 99,
   "metadata": {},
   "outputs": [],
   "source": [
    "df=df[[ 'Location', 'durationMinutes','hourStart',\n",
    "         'freq_cumbyday',\n",
    "       'freq_cumbyHourofDay', \n",
    "       'Event_cumusumbyHourday', 'Event_cumusumbyday' ,'eventcoded','behavior']]\n",
    "# select features\n",
    "X=df.iloc[:,0:-1]\n",
    "#select Target :behavior \n",
    "y=df.iloc[:,-1]\n"
   ]
  },
  {
   "cell_type": "markdown",
   "metadata": {},
   "source": [
    "# 4. Train Models\n",
    "**Classifiers :**\n",
    "\n",
    "In this section we will train some types of classifiers and decide which classifier will be more effective in detecting Anomaly Behavior. Before we have to split our data into training and testing sets and separate the features from the labels\n",
    "## 4.1 Scaling Features:\n",
    "\n",
    "When you’re working with a learning model, it is important to scale the features to a range which is centered around zero. Scaling will make sure the variance of the features are in the same range"
   ]
  },
  {
   "cell_type": "code",
   "execution_count": 100,
   "metadata": {},
   "outputs": [],
   "source": [
    "from sklearn.preprocessing import MinMaxScaler\n",
    "scaler =MinMaxScaler()\n",
    "\n",
    "X= scaler.fit_transform(X)"
   ]
  },
  {
   "cell_type": "markdown",
   "metadata": {},
   "source": [
    "##  4.2 best features"
   ]
  },
  {
   "cell_type": "code",
   "execution_count": 101,
   "metadata": {},
   "outputs": [
    {
     "name": "stdout",
     "output_type": "stream",
     "text": [
      "                 Features     Score\n",
      "2               hourStart  1.509748\n",
      "3           freq_cumbyday  1.357467\n",
      "6      Event_cumusumbyday  0.821248\n",
      "5  Event_cumusumbyHourday  0.437707\n",
      "1         durationMinutes  0.133812\n",
      "4     freq_cumbyHourofDay  0.112346\n",
      "0                Location  0.052161\n",
      "7              eventcoded  0.008360\n"
     ]
    }
   ],
   "source": [
    "import pandas as pd\n",
    "import numpy as np\n",
    "from sklearn.feature_selection import SelectKBest\n",
    "from sklearn.feature_selection import chi2\n",
    "bestfeatures = SelectKBest(score_func=chi2, k='all')\n",
    "fit = bestfeatures.fit(X,y)\n",
    "dfscores = pd.DataFrame(fit.scores_)\n",
    "dfcolumns = pd.DataFrame(df.iloc[:,0:9].columns)\n",
    "#concat two dataframes for better visualization \n",
    "featureScores = pd.concat([dfcolumns,dfscores],axis=1)\n",
    "featureScores.columns = ['Features','Score']  #naming the dataframe columns\n",
    "print(featureScores.nlargest(10,'Score'))  #print 10 best features"
   ]
  },
  {
   "cell_type": "markdown",
   "metadata": {},
   "source": [
    "## 4.3 Model:XGBoost\n",
    "\n",
    "XGBoost (eXtreme Gradient Boosting) is an advanced implementation of gradient boosting algorithm. What differentiates it from other boosting algorithms is its speed and accuracy Extreme Gradient Boosting (XGBoost) is a more efficient version of gradient boosting framework containing both a linear model solver and tree learning algorithms.\n",
    "\n",
    "The reason behind it’s efficiency is it’s capacity to do parallel computing on a single machine.\n"
   ]
  },
  {
   "cell_type": "code",
   "execution_count": 102,
   "metadata": {},
   "outputs": [
    {
     "data": {
      "text/plain": [
       "(38862, 8)"
      ]
     },
     "execution_count": 102,
     "metadata": {},
     "output_type": "execute_result"
    }
   ],
   "source": [
    "X.shape"
   ]
  },
  {
   "cell_type": "code",
   "execution_count": 103,
   "metadata": {},
   "outputs": [
    {
     "data": {
      "text/plain": [
       "XGBClassifier(base_score=0.5, booster='gbtree', colsample_bylevel=1,\n",
       "              colsample_bynode=1, colsample_bytree=1, gamma=0,\n",
       "              learning_rate=0.1, max_delta_step=0, max_depth=3,\n",
       "              min_child_weight=1, missing=None, n_estimators=100, n_jobs=1,\n",
       "              nthread=None, objective='binary:logistic', random_state=0,\n",
       "              reg_alpha=0, reg_lambda=1, scale_pos_weight=1, seed=None,\n",
       "              silent=None, subsample=1, verbosity=1)"
      ]
     },
     "execution_count": 103,
     "metadata": {},
     "output_type": "execute_result"
    }
   ],
   "source": [
    "from xgboost import XGBClassifier\n",
    "from sklearn.model_selection import train_test_split\n",
    "from sklearn.metrics import accuracy_score\n",
    "\n",
    "X_train, X_test, y_train, y_test = train_test_split(X, y, test_size = 0.5,random_state=1)\n",
    "\n",
    "#X_train=X[0:36000,:]\n",
    "#X_test=X[36000:38861,:]\n",
    "#y_train=y[0:36000]\n",
    "#y_test =y[36000:38861]\n",
    "import xgboost\n",
    "classifier = xgboost.XGBClassifier()\n",
    "classifier.fit( X_train, y_train.ravel())\n"
   ]
  },
  {
   "cell_type": "code",
   "execution_count": 104,
   "metadata": {},
   "outputs": [
    {
     "name": "stdout",
     "output_type": "stream",
     "text": [
      "[[    0     1]\n",
      " [19421    10]]\n"
     ]
    }
   ],
   "source": [
    "# examine class distribution\n",
    "unique, counts = np.unique(y_test, return_counts=True)\n",
    "print( np.asarray((unique, counts)))"
   ]
  },
  {
   "cell_type": "code",
   "execution_count": 105,
   "metadata": {},
   "outputs": [
    {
     "name": "stdout",
     "output_type": "stream",
     "text": [
      "[0.         0.11407334 0.2081415  0.21525678 0.00158949 0.09170785\n",
      " 0.369231   0.        ]\n"
     ]
    },
    {
     "data": {
      "image/png": "[encoded data removed]",
      "text/plain": [
       "<Figure size 432x288 with 1 Axes>"
      ]
     },
     "metadata": {
      "needs_background": "light"
     },
     "output_type": "display_data"
    }
   ],
   "source": [
    "import matplotlib.pyplot as plt\n",
    "\n",
    "print(classifier.feature_importances_) #use inbuilt class feature_importances of tree based classifiers\n",
    "#plot graph of feature importances for better visualization\n",
    "feat_importances = pd.Series(classifier.feature_importances_, index=df.iloc[:,0:8].columns)\n",
    "feat_importances.nlargest(10).plot(kind='barh')\n",
    "plt.show()"
   ]
  },
  {
   "cell_type": "code",
   "execution_count": 106,
   "metadata": {
    "scrolled": true
   },
   "outputs": [
    {
     "name": "stdout",
     "output_type": "stream",
     "text": [
      "Test accuracy score: 0.999485358447841\n",
      "Train accuracy score: 0.9996912150687046\n",
      "F1 score: 0.999485\n"
     ]
    }
   ],
   "source": [
    "from sklearn.metrics import f1_score\n",
    "import warnings\n",
    "warnings.filterwarnings(\"ignore\")\n",
    "# make predictions for test data\n",
    "y_pred_class1 = classifier.predict(X_test)\n",
    "y_pred=classifier.predict(X_train)\n",
    "from sklearn.metrics import accuracy_score\n",
    "accuracy = accuracy_score(y_test, y_pred_class1, normalize=True)\n",
    "print('Test accuracy score:',accuracy)\n",
    "print('Train accuracy score:',accuracy_score(y_train,classifier.predict(X_train)))\n",
    "# f1: 2 tp / (2 tp + fp + fn)\n",
    "f1 = f1_score(y_test, y_pred_class1 ,pos_label='positive',\n",
    "                                           average='micro')\n",
    "print('F1 score: %f' % f1)"
   ]
  },
  {
   "cell_type": "code",
   "execution_count": 107,
   "metadata": {
    "scrolled": true
   },
   "outputs": [
    {
     "data": {
      "image/png": "[encoded data removed]",
      "text/plain": [
       "<Figure size 396x288 with 2 Axes>"
      ]
     },
     "metadata": {
      "needs_background": "light"
     },
     "output_type": "display_data"
    }
   ],
   "source": [
    "from sklearn.metrics import confusion_matrix\n",
    "confusion_matrix1 = confusion_matrix(y_test,  y_pred_class1)\n",
    "# Transform to df for easier plotting\n",
    "cm_df1 = pd.DataFrame(confusion_matrix1,\n",
    "                     index = ['Normal','Anomaly'], \n",
    "                     columns = ['Normal','Anomaly'])\n",
    "\n",
    "plt.figure(figsize=(5.5,4))\n",
    "sns.heatmap(cm_df1, annot=True)\n",
    "plt.title('KNeighborsClassifier Kernel \\nAccuracy:{0:.3f}'.format(accuracy_score(y_test, y_pred_class1)))\n",
    "plt.ylabel('True label')\n",
    "plt.xlabel('Predicted label')\n",
    "plt.show()"
   ]
  },
  {
   "cell_type": "markdown",
   "metadata": {},
   "source": [
    "# comprare our XGBoost trained in balanced data "
   ]
  },
  {
   "cell_type": "code",
   "execution_count": 126,
   "metadata": {
    "scrolled": true
   },
   "outputs": [
    {
     "data": {
      "image/png": "[encoded data removed]",
      "text/plain": [
       "<Figure size 396x288 with 2 Axes>"
      ]
     },
     "metadata": {
      "needs_background": "light"
     },
     "output_type": "display_data"
    }
   ],
   "source": [
    "\n",
    "# make predictions for test data\n",
    "y_pred_class11 = XGBoost_clf.predict(X_test)\n",
    "confusion_matrix11 = confusion_matrix(y_test,  y_pred_class11)\n",
    "# Transform to df for easier plotting\n",
    "cm_df11 = pd.DataFrame(confusion_matrix11,\n",
    "                     index = ['Normal','Anomaly'], \n",
    "                     columns = ['Normal','Anomaly'])\n",
    "\n",
    "plt.figure(figsize=(5.5,4))\n",
    "sns.heatmap(cm_df11, annot=True)\n",
    "plt.title('XGBoost Kernel \\nAccuracy:{0:.3f}'.format(accuracy_score(y_test, y_pred_class11)))\n",
    "plt.ylabel('True label')\n",
    "plt.xlabel('Predicted label')\n",
    "plt.show()"
   ]
  },
  {
   "cell_type": "markdown",
   "metadata": {},
   "source": [
    "**Note:** As we see Accuracy have reduced to 66% but it detect well our anomaly "
   ]
  },
  {
   "cell_type": "code",
   "execution_count": 108,
   "metadata": {
    "scrolled": true
   },
   "outputs": [
    {
     "name": "stdout",
     "output_type": "stream",
     "text": [
      "              precision    recall  f1-score   support\n",
      "\n",
      "           0       1.00      1.00      1.00     19421\n",
      "           1       0.00      0.00      0.00        10\n",
      "\n",
      "    accuracy                           1.00     19431\n",
      "   macro avg       0.50      0.50      0.50     19431\n",
      "weighted avg       1.00      1.00      1.00     19431\n",
      "\n"
     ]
    }
   ],
   "source": [
    "from sklearn.metrics import classification_report\n",
    "print(classification_report(y_test, y_pred_class1))"
   ]
  },
  {
   "cell_type": "code",
   "execution_count": 109,
   "metadata": {
    "scrolled": false
   },
   "outputs": [
    {
     "data": {
      "image/png": "[encoded data removed]",
      "text/plain": [
       "<Figure size 432x288 with 1 Axes>"
      ]
     },
     "metadata": {
      "needs_background": "light"
     },
     "output_type": "display_data"
    }
   ],
   "source": [
    "from sklearn.metrics import roc_auc_score\n",
    "from sklearn.metrics import roc_curve\n",
    "logit_roc_auc = roc_auc_score(y_test, classifier.predict(X_test))\n",
    "fpr, tpr, thresholds = roc_curve(y_test, classifier.predict_proba(X_test)[:,1])\n",
    "plt.figure()\n",
    "plt.plot(fpr, tpr, label='XGBClassifier (area = %0.2f)' % logit_roc_auc)\n",
    "plt.plot([0, 1], [0, 1],'r--')\n",
    "plt.xlim([0.0, 1.0])\n",
    "plt.ylim([0.0, 1.05])\n",
    "plt.xlabel('False Positive Rate')\n",
    "plt.ylabel('True Positive Rate')\n",
    "plt.title('Receiver operating characteristic')\n",
    "plt.legend(loc=\"lower right\")\n",
    "plt.savefig('Log_ROC')\n",
    "plt.show()"
   ]
  },
  {
   "cell_type": "code",
   "execution_count": 110,
   "metadata": {},
   "outputs": [
    {
     "name": "stdout",
     "output_type": "stream",
     "text": [
      "[[    0]\n",
      " [19431]]\n"
     ]
    }
   ],
   "source": [
    "# examine class distribution\n",
    "unique, counts = np.unique(y_pred_class1, return_counts=True)\n",
    "print( np.asarray((unique, counts)))"
   ]
  },
  {
   "cell_type": "code",
   "execution_count": 111,
   "metadata": {},
   "outputs": [
    {
     "name": "stdout",
     "output_type": "stream",
     "text": [
      "Train accuracy score: 0.9996912150687046\n",
      "Test accuracy score: 0.999485358447841\n",
      "F1 score: 0.999485\n"
     ]
    }
   ],
   "source": [
    "from sklearn.linear_model import LogisticRegression\n",
    "from sklearn.metrics import accuracy_score\n",
    "logreg = LogisticRegression( multi_class='ovr', solver='newton-cg')\n",
    "logreg.fit(X_train,y_train)\n",
    "y_pred2 = logreg.predict(X_train)\n",
    "y_pred_class2=logreg.predict(X_test)\n",
    "print('Train accuracy score:',accuracy_score(y_train,y_pred2))\n",
    "print('Test accuracy score:', accuracy_score(y_test,logreg.predict(X_test)))\n",
    "# f1: 2 tp / (2 tp + fp + fn)\n",
    "f1 = f1_score(y_test, y_pred_class2,pos_label='positive',\n",
    "                                           average='micro')\n",
    "print('F1 score: %f' % f1)"
   ]
  },
  {
   "cell_type": "code",
   "execution_count": 129,
   "metadata": {},
   "outputs": [
    {
     "data": {
      "image/png": "[encoded data removed]",
      "text/plain": [
       "<Figure size 396x288 with 2 Axes>"
      ]
     },
     "metadata": {
      "needs_background": "light"
     },
     "output_type": "display_data"
    }
   ],
   "source": [
    "from sklearn.metrics import confusion_matrix\n",
    "confusion_matrix2 = confusion_matrix(y_test,  y_pred_class2)\n",
    "# Transform to df for easier plotting\n",
    "cm_df2 = pd.DataFrame(confusion_matrix2,\n",
    "                     index = ['Normal','Anomaly'], \n",
    "                     columns = ['Normal','Anomaly'])\n",
    "\n",
    "plt.figure(figsize=(5.5,4))\n",
    "sns.heatmap(cm_df2, annot=True)\n",
    "plt.title('LogisticRegression Kernel \\nAccuracy:{0:.3f}'.format(accuracy_score(y_test, y_pred_class2)))\n",
    "plt.ylabel('True label')\n",
    "plt.xlabel('Predicted label')\n",
    "plt.show()"
   ]
  },
  {
   "cell_type": "code",
   "execution_count": 113,
   "metadata": {},
   "outputs": [
    {
     "name": "stdout",
     "output_type": "stream",
     "text": [
      "[[    0]\n",
      " [19431]]\n"
     ]
    }
   ],
   "source": [
    "# examine class distribution\n",
    "unique, counts = np.unique(y_pred_class2, return_counts=True)\n",
    "print( np.asarray((unique, counts)))"
   ]
  },
  {
   "cell_type": "code",
   "execution_count": 114,
   "metadata": {},
   "outputs": [
    {
     "name": "stdout",
     "output_type": "stream",
     "text": [
      "Train accuracy score: 1.0\n",
      "Test accuracy score: 0.999485358447841\n",
      "F1 score: 0.999485\n"
     ]
    }
   ],
   "source": [
    "from sklearn.ensemble import RandomForestClassifier as RFC\n",
    "rfc_b = RFC()\n",
    "rfc_b.fit(X_train,y_train)\n",
    "y_pred3 = rfc_b.predict(X_train)\n",
    "y_pred_class3 = rfc_b.predict(X_test)\n",
    "print('Train accuracy score:',accuracy_score(y_train,y_pred3))\n",
    "print('Test accuracy score:', accuracy_score(y_test,rfc_b.predict(X_test)))\n",
    "# f1: 2 tp / (2 tp + fp + fn)\n",
    "f1 = f1_score(y_test, y_pred_class3,pos_label='positive',\n",
    "                                           average='micro')\n",
    "print('F1 score: %f' % f1)"
   ]
  },
  {
   "cell_type": "code",
   "execution_count": 128,
   "metadata": {},
   "outputs": [
    {
     "data": {
      "image/png": "[encoded data removed]",
      "text/plain": [
       "<Figure size 396x288 with 2 Axes>"
      ]
     },
     "metadata": {
      "needs_background": "light"
     },
     "output_type": "display_data"
    }
   ],
   "source": [
    "from sklearn.metrics import confusion_matrix\n",
    "confusion_matrix3 = confusion_matrix(y_test, y_pred_class3)\n",
    "# Transform to df for easier plotting\n",
    "cm_df3 = pd.DataFrame(confusion_matrix3,\n",
    "                     index = ['Normal','Anomaly'], \n",
    "                     columns = ['Normal','Anomaly'])\n",
    "\n",
    "plt.figure(figsize=(5.5,4))\n",
    "sns.heatmap(cm_df3, annot=True)\n",
    "plt.title('RandomForestClassifier Kernel \\nAccuracy:{0:.3f}'.format(accuracy_score(y_test, y_pred_class3)))\n",
    "plt.ylabel('True label')\n",
    "plt.xlabel('Predicted label')\n",
    "plt.show()"
   ]
  },
  {
   "cell_type": "code",
   "execution_count": 116,
   "metadata": {},
   "outputs": [
    {
     "name": "stdout",
     "output_type": "stream",
     "text": [
      "[[    0]\n",
      " [19431]]\n"
     ]
    }
   ],
   "source": [
    "# examine class distribution\n",
    "unique, counts = np.unique(y_pred_class3, return_counts=True)\n",
    "print( np.asarray((unique, counts)))"
   ]
  },
  {
   "cell_type": "code",
   "execution_count": 117,
   "metadata": {
    "scrolled": false
   },
   "outputs": [
    {
     "name": "stdout",
     "output_type": "stream",
     "text": [
      "Train accuracy score: 1.0\n",
      "Test accuracy score: 0.9991251093613298\n",
      "F1 score: 0.999125\n"
     ]
    }
   ],
   "source": [
    "from sklearn.neighbors import KNeighborsClassifier\n",
    "knn = KNeighborsClassifier(1)\n",
    "knn.fit(X_train,y_train)\n",
    "y_pred4 = knn.predict(X_train)\n",
    "y_pred_class4=knn.predict(X_test)\n",
    "print('Train accuracy score:',accuracy_score(y_train,y_pred4))\n",
    "print('Test accuracy score:',accuracy_score(y_test,knn.predict(X_test)))\n",
    "# f1: 2 tp / (2 tp + fp + fn)\n",
    "f1 = f1_score(y_test, y_pred_class4,pos_label='positive',\n",
    "                                           average='micro')\n",
    "print('F1 score: %f' % f1)"
   ]
  },
  {
   "cell_type": "code",
   "execution_count": 118,
   "metadata": {
    "scrolled": false
   },
   "outputs": [
    {
     "data": {
      "image/png": "[encoded data removed]",
      "text/plain": [
       "<Figure size 396x288 with 2 Axes>"
      ]
     },
     "metadata": {
      "needs_background": "light"
     },
     "output_type": "display_data"
    }
   ],
   "source": [
    "from sklearn.metrics import confusion_matrix\n",
    "confusion_matrix4 = confusion_matrix(y_test, y_pred_class4)\n",
    "# Transform to df for easier plotting\n",
    "cm_df4 = pd.DataFrame(confusion_matrix4,\n",
    "                     index = ['Normal','Anomaly'], \n",
    "                     columns = ['Normal','Anomaly'])\n",
    "\n",
    "plt.figure(figsize=(5.5,4))\n",
    "sns.heatmap(cm_df4, annot=True)\n",
    "plt.title('KNeighborsClassifier Kernel \\nAccuracy:{0:.3f}'.format(accuracy_score(y_test, y_pred_class4)))\n",
    "plt.ylabel('True label')\n",
    "plt.xlabel('Predicted label')\n",
    "plt.show()"
   ]
  },
  {
   "cell_type": "markdown",
   "metadata": {},
   "source": [
    "# compare our KNeighborsClassifier  trained in balanced data "
   ]
  },
  {
   "cell_type": "code",
   "execution_count": 124,
   "metadata": {},
   "outputs": [
    {
     "data": {
      "image/png": "[encoded data removed]",
      "text/plain": [
       "<Figure size 396x288 with 2 Axes>"
      ]
     },
     "metadata": {
      "needs_background": "light"
     },
     "output_type": "display_data"
    }
   ],
   "source": [
    "#let's compare result:\n",
    "y_pred_class41 = knears_neighbors.predict(X_test)\n",
    "confusion_matrix41 = confusion_matrix(y_test, y_pred_class41)\n",
    "# Transform to df for easier plotting\n",
    "cm_df41 = pd.DataFrame(confusion_matrix41,\n",
    "                     index = ['Normal','Anomaly'], \n",
    "                     columns = ['Normal','Anomaly'])\n",
    "\n",
    "plt.figure(figsize=(5.5,4))\n",
    "sns.heatmap(cm_df41, annot=True)\n",
    "plt.title('KNeighborsClassifier Kernel \\nAccuracy:{0:.3f}'.format(accuracy_score(y_test, y_pred_class41)))\n",
    "plt.ylabel('True label')\n",
    "plt.xlabel('Predicted label')\n",
    "plt.show()"
   ]
  },
  {
   "cell_type": "code",
   "execution_count": 119,
   "metadata": {},
   "outputs": [
    {
     "name": "stdout",
     "output_type": "stream",
     "text": [
      "[[    0     1]\n",
      " [19424     7]]\n"
     ]
    }
   ],
   "source": [
    "# examine class distribution\n",
    "unique, counts = np.unique(y_pred_class4, return_counts=True)\n",
    "print( np.asarray((unique, counts)))"
   ]
  },
  {
   "cell_type": "code",
   "execution_count": 120,
   "metadata": {},
   "outputs": [
    {
     "name": "stdout",
     "output_type": "stream",
     "text": [
      "Wall time: 31.2 ms\n",
      "F1 score: 0.999485\n"
     ]
    }
   ],
   "source": [
    "from sklearn.naive_bayes import GaussianNB, BernoulliNB, MultinomialNB\n",
    "B = BernoulliNB()\n",
    "\n",
    "%time B.fit(X_train,y_train)\n",
    "y_pred_classB = B.predict(X_test)\n",
    "\n",
    "accuracy_score(y_test, y_pred_classB)\n",
    "# f1: 2 tp / (2 tp + fp + fn)\n",
    "f1 = f1_score(y_test, y_pred_classB,pos_label='pos_label',labels=[0,1],\n",
    "                                           average='micro')\n",
    "print('F1 score: %f' % f1)"
   ]
  },
  {
   "cell_type": "code",
   "execution_count": 127,
   "metadata": {},
   "outputs": [
    {
     "data": {
      "image/png": "[encoded data removed]",
      "text/plain": [
       "<Figure size 396x288 with 2 Axes>"
      ]
     },
     "metadata": {
      "needs_background": "light"
     },
     "output_type": "display_data"
    }
   ],
   "source": [
    "from sklearn.metrics import confusion_matrix\n",
    "confusion_matrix5 = confusion_matrix(y_test,  y_pred_classB)\n",
    "# Transform to df for easier plotting\n",
    "cm_df5 = pd.DataFrame(confusion_matrix5,\n",
    "                     index = ['Normal','Anomaly'], \n",
    "                     columns = ['Normal','Anomaly'])\n",
    "\n",
    "plt.figure(figsize=(5.5,4))\n",
    "sns.heatmap(cm_df5, annot=True)\n",
    "plt.title('BernoulliNBClassifier Kernel \\nAccuracy:{0:.3f}'.format(accuracy_score(y_test, y_pred_classB)))\n",
    "plt.ylabel('True label')\n",
    "plt.xlabel('Predicted label')\n",
    "plt.show()"
   ]
  },
  {
   "cell_type": "code",
   "execution_count": 122,
   "metadata": {
    "scrolled": true
   },
   "outputs": [
    {
     "name": "stdout",
     "output_type": "stream",
     "text": [
      "[[    0]\n",
      " [19431]]\n"
     ]
    }
   ],
   "source": [
    "# examine class distribution\n",
    "unique, counts = np.unique(y_pred_classB, return_counts=True)\n",
    "print( np.asarray((unique, counts)))"
   ]
  },
  {
   "cell_type": "markdown",
   "metadata": {},
   "source": [
    "# Summary:\n",
    "\n",
    "-Both training in unblanced and balanced don't give us a promoted results\n",
    "\n",
    "    KNeighborsClassifier and XGBoost classifier are  more accurate than the other three classifiers in most cases for balanced data .\n",
    "    GridSearchCV is used to determine the paremeters that gives the best predictive score for the classifiers.\n",
    "    XGBoost  has the best Receiving Operating Characteristic score (ROC), meaning that XGBoost pretty accurately separates Anomaly and non-Anomly behavior.\n",
    "    \n",
    "==>Those models can't be used for other data set beacause we have a so unblanced data : only 0.04 anomaly ."
   ]
  }
 ],
 "metadata": {
  "kernelspec": {
   "display_name": "Python 3",
   "language": "python",
   "name": "python3"
  },
  "language_info": {
   "codemirror_mode": {
    "name": "ipython",
    "version": 3
   },
   "file_extension": ".py",
   "mimetype": "text/x-python",
   "name": "python",
   "nbconvert_exporter": "python",
   "pygments_lexer": "ipython3",
   "version": "3.7.3"
  }
 },
 "nbformat": 4,
 "nbformat_minor": 2
}
